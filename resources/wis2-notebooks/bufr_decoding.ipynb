{
 "cells": [
  {
   "cell_type": "code",
   "execution_count": 17,
   "id": "051b99a9",
   "metadata": {},
   "outputs": [
    {
     "name": "stdout",
     "output_type": "stream",
     "text": [
      "Requirement already satisfied: pybufrkit in /home/xiaohul/miniconda3/envs/wis2-notebooks/lib/python3.11/site-packages (0.2.25)\n",
      "Requirement already satisfied: bitstring>=3.1.3 in /home/xiaohul/miniconda3/envs/wis2-notebooks/lib/python3.11/site-packages (from pybufrkit) (4.3.1)\n",
      "Requirement already satisfied: six in /home/xiaohul/miniconda3/envs/wis2-notebooks/lib/python3.11/site-packages (from pybufrkit) (1.17.0)\n",
      "Requirement already satisfied: bitarray<4.0,>=3.0.0 in /home/xiaohul/miniconda3/envs/wis2-notebooks/lib/python3.11/site-packages (from bitstring>=3.1.3->pybufrkit) (3.7.1)\n"
     ]
    }
   ],
   "source": [
    "%%sh\n",
    "pip install pybufrkit"
   ]
  },
  {
   "cell_type": "markdown",
   "id": "1e17b873",
   "metadata": {},
   "source": [
    "Decode a BUFR file"
   ]
  },
  {
   "cell_type": "code",
   "execution_count": 18,
   "id": "aee48792",
   "metadata": {},
   "outputs": [
    {
     "name": "stdout",
     "output_type": "stream",
     "text": [
      "TableGroupKey(tables_root_dir='/home/xiaohul/miniconda3/envs/wis2-notebooks/lib/python3.11/site-packages/pybufrkit/tables', tables_local_dir='/home/xiaohul/miniconda3/envs/wis2-notebooks/lib/python3.11/site-packages/pybufrkit/tables', wmo_tables_sn=('0', '0_0', '41'), local_tables_sn=None)\n",
      "<<<<<< section 0 >>>>>>\n",
      "start_signature = b'BUFR'\n",
      "length = 122\n",
      "edition = 4\n",
      "<<<<<< section 1 >>>>>>\n",
      "section_length = 22\n",
      "master_table_number = 0\n",
      "originating_centre = 98\n",
      "originating_subcentre = 65535\n",
      "update_sequence_number = 0\n",
      "is_section2_presents = False\n",
      "flag_bits = '0000000'\n",
      "data_category = 0\n",
      "data_i18n_subcategory = 6\n",
      "data_local_subcategory = 110\n",
      "master_table_version = 41\n",
      "local_table_version = 0\n",
      "year = 2025\n",
      "month = 8\n",
      "day = 31\n",
      "hour = 23\n",
      "minute = 20\n",
      "second = 0\n",
      "local_bytes = b''\n",
      "<<<<<< section 3 >>>>>>\n",
      "section_length = 9\n",
      "reserved_bits = '00000000'\n",
      "n_subsets = 1\n",
      "is_observation = True\n",
      "is_compressed = False\n",
      "flag_bits = '000000'\n",
      "unexpanded_descriptors = [308015]\n",
      "<<<<<< section 4 >>>>>>\n",
      "section_length = 79\n",
      "reserved_bits = '00000000'\n",
      "###### subset 1 of 1 ######\n",
      "    1 001003 WMO Region number/geographical area                                 1\n",
      "    2 001020 WMO Region sub-area                                                 1\n",
      "    3 001005 Buoy/platform identifier                                            11080\n",
      "    4 001011 Ship or mobile land station identifier                              b'\\xff\\xff\\xff\\xff\\xff\\xff\\xff\\xff\\xff'\n",
      "    5 001007 Satellite identifier                                                None\n",
      "    6 001001 WMO block number                                                    None\n",
      "    7 001002 WMO station number                                                  None\n",
      "    8 002044 Indicator for method of calculating spectral wave data              None\n",
      "    9 002045 Indicator for type of platform                                      None\n",
      "   10 004001 Year                                                                2025\n",
      "   11 004002 Month                                                               8\n",
      "   12 004003 Day                                                                 31\n",
      "   13 004004 Hour                                                                23\n",
      "   14 004005 Minute                                                              20\n",
      "   15 005001 Latitude (high accuracy)                                            -38.7546\n",
      "   16 006001 Longitude (high accuracy)                                           143.72267\n",
      "   17 022063 Total water depth                                                   None\n",
      "   18 022076 Direction from which dominant waves are coming                      188\n",
      "   19 022077 Directional spread of dominant wave                                 20\n",
      "   20 022094 Total number of wave bands                                          None\n",
      "   21 025043 Wave sampling interval (time)                                       None\n",
      "   22 022078 Duration of wave record                                             None\n",
      "   23 002046 Wave measurement instrumentation                                    None\n",
      "   24 022070 Significant wave height                                             2.19\n",
      "   25 022071 Spectral peak wave period                                           12.8\n",
      "   26 022073 Maximum wave height                                                 None\n",
      "   27 022074 Average wave period                                                 8.9\n",
      "   28 002046 Wave measurement instrumentation                                    None\n",
      "   29 022070 Significant wave height                                             None\n",
      "   30 022071 Spectral peak wave period                                           None\n",
      "   31 022073 Maximum wave height                                                 None\n",
      "   32 022074 Average wave period                                                 None\n",
      "   33 031001 Delayed descriptor replication factor                               1\n",
      "   34 002046 Wave measurement instrumentation                                    None\n",
      "   35 008090 Decimal scale of following significands                             None\n",
      "   36 022102 Scaled maximum non-directional spectral wave density by frequency   None\n",
      "   37 008090 Decimal scale of following significands                             None\n",
      "   38 022084 Band containing maximum non-directional spectral wave density       None\n",
      "   39 031001 Delayed descriptor replication factor                               1\n",
      "   40 022080 Waveband central frequency                                          None\n",
      "   41 022108 Spectral wave density ratio                                         None\n",
      "   42 022086 Mean direction from which waves are coming                          194\n",
      "   43 022087 Principal direction from which waves are coming                     None\n",
      "   44 022088 First normalized polar coordinate from Fourier coefficients         None\n",
      "   45 022089 Second normalized polar coordinate from Fourier coefficients        None\n",
      "   46 031001 Delayed descriptor replication factor                               1\n",
      "   47 008090 Decimal scale of following significands                             None\n",
      "   48 022104 Scaled non-directional spectral wave density by frequency           None\n",
      "   49 008090 Decimal scale of following significands                             None\n",
      "   50 022186 Direction from which waves are coming                               None\n",
      "   51 022187 Directional spread of wave                                          26\n",
      "   52 031001 Delayed descriptor replication factor                               1\n",
      "   53 008090 Decimal scale of following significands                             None\n",
      "   54 022106 Scaled directional spectral wave density by frequency               None\n",
      "   55 008090 Decimal scale of following significands                             None\n",
      "   56 022186 Direction from which waves are coming                               None\n",
      "   57 022187 Directional spread of wave                                          None\n",
      "<<<<<< section 5 >>>>>>\n",
      "stop_signature = b'7777'\n"
     ]
    }
   ],
   "source": [
    "%%sh\n",
    "export BUFR_FILE=data/WIGOS_0-22000-0-7811080_20250831T232000.bufr4\n",
    "\n",
    "pybufrkit decode $BUFR_FILE\n"
   ]
  },
  {
   "cell_type": "markdown",
   "id": "63f2dfb4",
   "metadata": {},
   "source": [
    "Decode a BUFR file and output in the flat JSON format"
   ]
  },
  {
   "cell_type": "code",
   "execution_count": 19,
   "id": "d5981741",
   "metadata": {},
   "outputs": [
    {
     "name": "stdout",
     "output_type": "stream",
     "text": [
      "[[\"BUFR\", 122, 4], [22, 0, 98, 65535, 0, false, \"0000000\", 0, 6, 110, 41, 0, 2025, 8, 31, 23, 20, 0, \"\"], [9, \"00000000\", 1, true, false, \"000000\", [308015]], [79, \"00000000\", [[1, 1, 11080, \"\\u00ff\\u00ff\\u00ff\\u00ff\\u00ff\\u00ff\\u00ff\\u00ff\\u00ff\", null, null, null, null, null, 2025, 8, 31, 23, 20, -38.7546, 143.72267, null, 188, 20, null, null, null, null, 2.19, 12.8, null, 8.9, null, null, null, null, null, 1, null, null, null, null, null, 1, null, null, 194, null, null, null, 1, null, null, null, null, 26, 1, null, null, null, null, null]]], [\"7777\"]]\n"
     ]
    }
   ],
   "source": [
    "%%sh\n",
    "pybufrkit decode -j data/WIGOS_0-22000-0-7811080_20250831T232000.bufr4"
   ]
  },
  {
   "cell_type": "markdown",
   "id": "2bf2c066",
   "metadata": {},
   "source": []
  },
  {
   "cell_type": "code",
   "execution_count": 20,
   "id": "3050edd5",
   "metadata": {},
   "outputs": [
    {
     "name": "stdout",
     "output_type": "stream",
     "text": [
      "<pybufrkit.bufr.BufrMessage object at 0x7ad57cb34590>\n"
     ]
    }
   ],
   "source": [
    "# Decode a BUFR file\n",
    "from pybufrkit.decoder import Decoder\n",
    "\n",
    "decoder = Decoder()\n",
    "\n",
    "bufr_file = 'data/WIGOS_0-22000-0-7811080_20250831T232000.bufr4'\n",
    "with open(bufr_file, 'rb') as ins:\n",
    "    bufr_message = decoder.process(ins.read())\n",
    "\n",
    "    print(bufr_message)"
   ]
  },
  {
   "cell_type": "code",
   "execution_count": 21,
   "id": "9be2c2d4",
   "metadata": {},
   "outputs": [
    {
     "data": {
      "text/plain": [
       "[[b'BUFR', 122, 4],\n",
       " [22,\n",
       "  0,\n",
       "  98,\n",
       "  65535,\n",
       "  0,\n",
       "  False,\n",
       "  '0000000',\n",
       "  0,\n",
       "  6,\n",
       "  110,\n",
       "  41,\n",
       "  0,\n",
       "  2025,\n",
       "  8,\n",
       "  31,\n",
       "  23,\n",
       "  20,\n",
       "  0,\n",
       "  b''],\n",
       " [9, '00000000', 1, True, False, '000000', [308015]],\n",
       " [79,\n",
       "  '00000000',\n",
       "  [[1,\n",
       "    1,\n",
       "    11080,\n",
       "    b'\\xff\\xff\\xff\\xff\\xff\\xff\\xff\\xff\\xff',\n",
       "    None,\n",
       "    None,\n",
       "    None,\n",
       "    None,\n",
       "    None,\n",
       "    2025,\n",
       "    8,\n",
       "    31,\n",
       "    23,\n",
       "    20,\n",
       "    -38.7546,\n",
       "    143.72267,\n",
       "    None,\n",
       "    188,\n",
       "    20,\n",
       "    None,\n",
       "    None,\n",
       "    None,\n",
       "    None,\n",
       "    2.19,\n",
       "    12.8,\n",
       "    None,\n",
       "    8.9,\n",
       "    None,\n",
       "    None,\n",
       "    None,\n",
       "    None,\n",
       "    None,\n",
       "    1,\n",
       "    None,\n",
       "    None,\n",
       "    None,\n",
       "    None,\n",
       "    None,\n",
       "    1,\n",
       "    None,\n",
       "    None,\n",
       "    194,\n",
       "    None,\n",
       "    None,\n",
       "    None,\n",
       "    1,\n",
       "    None,\n",
       "    None,\n",
       "    None,\n",
       "    None,\n",
       "    26,\n",
       "    1,\n",
       "    None,\n",
       "    None,\n",
       "    None,\n",
       "    None,\n",
       "    None]]],\n",
       " [b'7777']]"
      ]
     },
     "execution_count": 21,
     "metadata": {},
     "output_type": "execute_result"
    }
   ],
   "source": [
    "# Convert the BUFR message to JSON\n",
    "from pybufrkit.renderer import FlatJsonRenderer\n",
    "json_data = FlatJsonRenderer().render(bufr_message)\n",
    "json_data"
   ]
  }
 ],
 "metadata": {
  "kernelspec": {
   "display_name": "wis2-notebooks",
   "language": "python",
   "name": "python3"
  },
  "language_info": {
   "codemirror_mode": {
    "name": "ipython",
    "version": 3
   },
   "file_extension": ".py",
   "mimetype": "text/x-python",
   "name": "python",
   "nbconvert_exporter": "python",
   "pygments_lexer": "ipython3",
   "version": "3.11.13"
  }
 },
 "nbformat": 4,
 "nbformat_minor": 5
}
